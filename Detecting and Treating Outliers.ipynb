{
 "cells": [
  {
   "cell_type": "markdown",
   "id": "3479acd2",
   "metadata": {},
   "source": [
    "## Detecting Outliers"
   ]
  },
  {
   "cell_type": "code",
   "execution_count": 139,
   "id": "b7d56af7",
   "metadata": {},
   "outputs": [],
   "source": [
    "## Importing Libraries.\n",
    "\n",
    "import warnings\n",
    "warnings.filterwarnings('ignore')\n",
    "\n",
    "import pandas as pd\n",
    "import random\n",
    "import numpy as np\n",
    "import seaborn as sns\n",
    "import matplotlib.pyplot as plt\n",
    "from scipy.stats import norm\n",
    "from scipy import stats\n",
    "from sklearn.neighbors import LocalOutlierFactor"
   ]
  },
  {
   "cell_type": "code",
   "execution_count": 153,
   "id": "c153ec2c",
   "metadata": {},
   "outputs": [],
   "source": [
    "## Create random array of 20 elements between between 10 to 200\n",
    "arr = random.sample(range(100,200),20)\n",
    "arr.extend([155, 130, 155, 170, 155, 999, 1])"
   ]
  },
  {
   "cell_type": "code",
   "execution_count": 154,
   "id": "259a48e1",
   "metadata": {},
   "outputs": [],
   "source": [
    "arr = np.array(arr)"
   ]
  },
  {
   "cell_type": "code",
   "execution_count": 156,
   "id": "83e353b4",
   "metadata": {},
   "outputs": [
    {
     "name": "stdout",
     "output_type": "stream",
     "text": [
      "[1, 103, 104, 120, 126, 129, 130, 133, 138, 151, 155, 155, 155, 158, 161, 162, 164, 165, 169, 170, 170, 179, 182, 183, 186, 198, 999]\n"
     ]
    }
   ],
   "source": [
    "# display array\n",
    "print(sorted(arr))"
   ]
  },
  {
   "cell_type": "code",
   "execution_count": 157,
   "id": "72d26637",
   "metadata": {},
   "outputs": [
    {
     "name": "stdout",
     "output_type": "stream",
     "text": [
      "array mean: 179.4814814814815\n",
      "array median: 158.0\n",
      "array mode: [155]\n"
     ]
    }
   ],
   "source": [
    "## display mean, median, mode\n",
    "print(f\"array mean: {arr.mean()}\\narray median: {np.median(arr)}\\narray mode: {stats.mode(arr)[0]}\")"
   ]
  },
  {
   "cell_type": "code",
   "execution_count": 158,
   "id": "5e48861b",
   "metadata": {},
   "outputs": [
    {
     "name": "stdout",
     "output_type": "stream",
     "text": [
      "array minimum: 1\n",
      "array max: 999\n"
     ]
    }
   ],
   "source": [
    "## display min, max values\n",
    "print(f\"array minimum: {arr.min()}\\narray max: {np.max(arr)}\")"
   ]
  },
  {
   "cell_type": "code",
   "execution_count": 159,
   "id": "f7947026",
   "metadata": {},
   "outputs": [
    {
     "name": "stdout",
     "output_type": "stream",
     "text": [
      "array standard deviation: 165.00850042534182\n",
      "array variance: 27227.80521262003\n"
     ]
    }
   ],
   "source": [
    "## display standard deviation,  variance.\n",
    "print(f\"array standard deviation: {arr.std()}\\narray variance: {np.var(arr)}\")"
   ]
  },
  {
   "cell_type": "markdown",
   "id": "8dac250a",
   "metadata": {},
   "source": [
    "### Calculating IQR"
   ]
  },
  {
   "cell_type": "code",
   "execution_count": 160,
   "id": "1b1bacd2",
   "metadata": {
    "scrolled": true
   },
   "outputs": [
    {
     "data": {
      "text/plain": [
       "170.0"
      ]
     },
     "execution_count": 160,
     "metadata": {},
     "output_type": "execute_result"
    }
   ],
   "source": [
    "## Q3 (third quartile)\n",
    "np.percentile(arr, 75)"
   ]
  },
  {
   "cell_type": "code",
   "execution_count": 161,
   "id": "b4edd9e2",
   "metadata": {},
   "outputs": [
    {
     "data": {
      "text/plain": [
       "158.0"
      ]
     },
     "execution_count": 161,
     "metadata": {},
     "output_type": "execute_result"
    }
   ],
   "source": [
    "## Q2 (second quartile) equal to median\n",
    "np.percentile(arr, 50)"
   ]
  },
  {
   "cell_type": "code",
   "execution_count": 162,
   "id": "5845e960",
   "metadata": {},
   "outputs": [
    {
     "data": {
      "text/plain": [
       "131.5"
      ]
     },
     "execution_count": 162,
     "metadata": {},
     "output_type": "execute_result"
    }
   ],
   "source": [
    "## Q1 (first quartile)\n",
    "np.percentile(arr, 25)"
   ]
  },
  {
   "cell_type": "code",
   "execution_count": 163,
   "id": "220b0115",
   "metadata": {},
   "outputs": [
    {
     "data": {
      "text/plain": [
       "38.5"
      ]
     },
     "execution_count": 163,
     "metadata": {},
     "output_type": "execute_result"
    }
   ],
   "source": [
    "## Inter quartile range(Q3-Q1)\n",
    "np.percentile(arr, 75) - np.percentile(arr, 25)"
   ]
  },
  {
   "cell_type": "code",
   "execution_count": 164,
   "id": "0590b1fb",
   "metadata": {},
   "outputs": [
    {
     "data": {
      "text/plain": [
       "38.5"
      ]
     },
     "execution_count": 164,
     "metadata": {},
     "output_type": "execute_result"
    }
   ],
   "source": [
    "## Inter quartile range(Q3-Q1) with stats library\n",
    "stats.iqr(arr)"
   ]
  },
  {
   "cell_type": "code",
   "execution_count": 166,
   "id": "ee9aa7c1",
   "metadata": {},
   "outputs": [
    {
     "data": {
      "text/plain": [
       "<matplotlib.axes._subplots.AxesSubplot at 0x1e805c32ac8>"
      ]
     },
     "execution_count": 166,
     "metadata": {},
     "output_type": "execute_result"
    },
    {
     "data": {
      "image/png": "[encoded data removed]",
      "text/plain": [
       "<Figure size 432x288 with 1 Axes>"
      ]
     },
     "metadata": {
      "needs_background": "light"
     },
     "output_type": "display_data"
    }
   ],
   "source": [
    "sns.boxplot(arr)"
   ]
  },
  {
   "cell_type": "code",
   "execution_count": 167,
   "id": "dc487d57",
   "metadata": {},
   "outputs": [
    {
     "data": {
      "text/plain": [
       "<matplotlib.axes._subplots.AxesSubplot at 0x1e80674f088>"
      ]
     },
     "execution_count": 167,
     "metadata": {},
     "output_type": "execute_result"
    },
    {
     "data": {
      "image/png": "[encoded data removed]",
      "text/plain": [
       "<Figure size 432x288 with 1 Axes>"
      ]
     },
     "metadata": {
      "needs_background": "light"
     },
     "output_type": "display_data"
    }
   ],
   "source": [
    "sns.boxenplot(arr)"
   ]
  },
  {
   "cell_type": "code",
   "execution_count": 169,
   "id": "e436f76d",
   "metadata": {},
   "outputs": [
    {
     "data": {
      "text/plain": [
       "4.4759293899741595"
      ]
     },
     "execution_count": 169,
     "metadata": {},
     "output_type": "execute_result"
    }
   ],
   "source": [
    "## Skewness\n",
    "stats.skew(arr)"
   ]
  },
  {
   "cell_type": "code",
   "execution_count": 170,
   "id": "7238b754",
   "metadata": {},
   "outputs": [
    {
     "data": {
      "text/plain": [
       "Text(0.5, 0, 'Array')"
      ]
     },
     "execution_count": 170,
     "metadata": {},
     "output_type": "execute_result"
    },
    {
     "data": {
      "image/png": "[encoded data removed]",
      "text/plain": [
       "<Figure size 720x360 with 2 Axes>"
      ]
     },
     "metadata": {
      "needs_background": "light"
     },
     "output_type": "display_data"
    }
   ],
   "source": [
    "## Visualizations\n",
    "plt.figure(figsize=(10,5))\n",
    "plt.subplot(1,2,1)\n",
    "plt.hist(arr)\n",
    "plt.title(\"Histogram of Array\")\n",
    "plt.xlabel('Array')\n",
    "plt.subplot(1,2,2)\n",
    "sns.distplot(arr, kde=True)\n",
    "plt.title('Density plot of sample')\n",
    "plt.xlabel('Array')"
   ]
  },
  {
   "cell_type": "markdown",
   "id": "014ab8ad",
   "metadata": {},
   "source": [
    "## Treating Outliers"
   ]
  },
  {
   "cell_type": "markdown",
   "id": "f21be6a5",
   "metadata": {},
   "source": [
    "### Method1"
   ]
  },
  {
   "cell_type": "code",
   "execution_count": 190,
   "id": "d40eca50",
   "metadata": {},
   "outputs": [],
   "source": [
    "## Deleting two data points which are outliers.\n",
    "arr_1 = np.delete(arr, np.where((arr==999) | (arr==1)))"
   ]
  },
  {
   "cell_type": "code",
   "execution_count": 193,
   "id": "189c0159",
   "metadata": {},
   "outputs": [
    {
     "name": "stdout",
     "output_type": "stream",
     "text": [
      "array mean: 153.84\n",
      "array median: 158.0\n",
      "array mode: [155]\n"
     ]
    }
   ],
   "source": [
    "## display mean, median, mode\n",
    "print(f\"array mean: {arr_1.mean()}\\narray median: {np.median(arr_1)}\\narray mode: {stats.mode(arr_1)[0]}\")"
   ]
  },
  {
   "cell_type": "code",
   "execution_count": 194,
   "id": "5bb5cca5",
   "metadata": {},
   "outputs": [
    {
     "name": "stdout",
     "output_type": "stream",
     "text": [
      "array minimum: 103\n",
      "array max: 198\n"
     ]
    }
   ],
   "source": [
    "## display min, max values\n",
    "print(f\"array minimum: {arr_1.min()}\\narray max: {np.max(arr_1)}\")"
   ]
  },
  {
   "cell_type": "code",
   "execution_count": 197,
   "id": "68fd2c24",
   "metadata": {},
   "outputs": [
    {
     "data": {
      "text/plain": [
       "<matplotlib.axes._subplots.AxesSubplot at 0x1e8060a7e48>"
      ]
     },
     "execution_count": 197,
     "metadata": {},
     "output_type": "execute_result"
    },
    {
     "data": {
      "image/png": "[encoded data removed]",
      "text/plain": [
       "<Figure size 432x288 with 1 Axes>"
      ]
     },
     "metadata": {
      "needs_background": "light"
     },
     "output_type": "display_data"
    }
   ],
   "source": [
    "sns.boxplot(arr_1)"
   ]
  },
  {
   "cell_type": "code",
   "execution_count": 199,
   "id": "3bff6cb1",
   "metadata": {},
   "outputs": [
    {
     "data": {
      "text/plain": [
       "-0.42406961325526377"
      ]
     },
     "execution_count": 199,
     "metadata": {},
     "output_type": "execute_result"
    }
   ],
   "source": [
    "## Skewness\n",
    "stats.skew(arr_1)"
   ]
  },
  {
   "cell_type": "code",
   "execution_count": 201,
   "id": "a4a16ead",
   "metadata": {},
   "outputs": [
    {
     "data": {
      "text/plain": [
       "Text(0.5, 0, 'Array')"
      ]
     },
     "execution_count": 201,
     "metadata": {},
     "output_type": "execute_result"
    },
    {
     "data": {
      "image/png": "[encoded data removed]",
      "text/plain": [
       "<Figure size 720x360 with 2 Axes>"
      ]
     },
     "metadata": {
      "needs_background": "light"
     },
     "output_type": "display_data"
    }
   ],
   "source": [
    "## Visualizations\n",
    "plt.figure(figsize=(10,5))\n",
    "plt.subplot(1,2,1)\n",
    "plt.hist(arr_1)\n",
    "plt.title(\"Histogram of Array\")\n",
    "plt.xlabel('Array')\n",
    "plt.subplot(1,2,2)\n",
    "sns.distplot(arr_1, kde=True)\n",
    "plt.title('Density plot of sample')\n",
    "plt.xlabel('Array')"
   ]
  },
  {
   "cell_type": "code",
   "execution_count": null,
   "id": "aa721464",
   "metadata": {},
   "outputs": [],
   "source": []
  }
 ],
 "metadata": {
  "kernelspec": {
   "display_name": "Python 3",
   "language": "python",
   "name": "python3"
  },
  "language_info": {
   "codemirror_mode": {
    "name": "ipython",
    "version": 3
   },
   "file_extension": ".py",
   "mimetype": "text/x-python",
   "name": "python",
   "nbconvert_exporter": "python",
   "pygments_lexer": "ipython3",
   "version": "3.7.10"
  }
 },
 "nbformat": 4,
 "nbformat_minor": 5
}
